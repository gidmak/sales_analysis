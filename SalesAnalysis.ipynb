{
 "cells": [
  {
   "cell_type": "markdown",
   "id": "2a5c42d1",
   "metadata": {},
   "source": [
    "# Sales Analysis"
   ]
  },
  {
   "cell_type": "code",
   "execution_count": 9,
   "id": "8a90d5e5",
   "metadata": {
    "ExecuteTime": {
     "end_time": "2023-07-28T13:45:28.576036Z",
     "start_time": "2023-07-28T13:45:28.560044Z"
    }
   },
   "outputs": [],
   "source": [
    "import pandas as pd \n",
    "import glob\n",
    "import os"
   ]
  },
  {
   "cell_type": "code",
   "execution_count": 10,
   "id": "aabe9e67",
   "metadata": {
    "ExecuteTime": {
     "end_time": "2023-07-28T13:45:28.876850Z",
     "start_time": "2023-07-28T13:45:28.867854Z"
    }
   },
   "outputs": [],
   "source": [
    "path = r\"C:\\Users\\Gideon Markus\\Documents\\Data Science Projects\\sales analysis\\Sales_Data\""
   ]
  },
  {
   "cell_type": "code",
   "execution_count": 11,
   "id": "95048570",
   "metadata": {
    "ExecuteTime": {
     "end_time": "2023-07-28T13:45:29.194654Z",
     "start_time": "2023-07-28T13:45:29.171667Z"
    }
   },
   "outputs": [],
   "source": [
    "all_files = glob.glob(path + \"/*.csv\")"
   ]
  },
  {
   "cell_type": "code",
   "execution_count": 12,
   "id": "344059a3",
   "metadata": {
    "ExecuteTime": {
     "end_time": "2023-07-28T13:45:29.590406Z",
     "start_time": "2023-07-28T13:45:29.559425Z"
    }
   },
   "outputs": [],
   "source": [
    "li = []"
   ]
  },
  {
   "cell_type": "code",
   "execution_count": 13,
   "id": "82701dd0",
   "metadata": {
    "ExecuteTime": {
     "end_time": "2023-07-28T13:45:30.768675Z",
     "start_time": "2023-07-28T13:45:29.796278Z"
    }
   },
   "outputs": [],
   "source": [
    "for filename in all_files:\n",
    "    temp_df = pd.read_csv(filename, index_col=None, header=0)\n",
    "    li.append(temp_df)"
   ]
  },
  {
   "cell_type": "code",
   "execution_count": 14,
   "id": "fd8c3dc0",
   "metadata": {
    "ExecuteTime": {
     "end_time": "2023-07-28T13:45:30.929578Z",
     "start_time": "2023-07-28T13:45:30.797657Z"
    }
   },
   "outputs": [],
   "source": [
    "frame = pd.concat(li, axis=0, ignore_index=True)"
   ]
  },
  {
   "cell_type": "code",
   "execution_count": 15,
   "id": "b02d7181",
   "metadata": {
    "ExecuteTime": {
     "end_time": "2023-07-28T13:45:31.043506Z",
     "start_time": "2023-07-28T13:45:30.943568Z"
    }
   },
   "outputs": [],
   "source": [
    "#merged_data = reduce(lambda  left,right: pd.merge(left,right,on=['column name'],how='outer'), (pd.read_csv(data_file) for data_file in data_files))"
   ]
  },
  {
   "cell_type": "code",
   "execution_count": 16,
   "id": "fbd5b2a4",
   "metadata": {
    "ExecuteTime": {
     "end_time": "2023-07-28T13:45:33.272123Z",
     "start_time": "2023-07-28T13:45:31.070489Z"
    }
   },
   "outputs": [],
   "source": [
    "frame.to_csv(r'C:\\Users\\Gideon Markus\\Documents\\Data Science Projects\\sales analysis\\Output\\merged.csv')"
   ]
  },
  {
   "cell_type": "code",
   "execution_count": 17,
   "id": "744ca291",
   "metadata": {
    "ExecuteTime": {
     "end_time": "2023-07-28T13:45:33.941709Z",
     "start_time": "2023-07-28T13:45:33.280120Z"
    },
    "scrolled": false
   },
   "outputs": [
    {
     "name": "stdout",
     "output_type": "stream",
     "text": [
      "<class 'pandas.core.frame.DataFrame'>\n",
      "RangeIndex: 186850 entries, 0 to 186849\n",
      "Data columns (total 6 columns):\n",
      " #   Column            Non-Null Count   Dtype \n",
      "---  ------            --------------   ----- \n",
      " 0   Order ID          186305 non-null  object\n",
      " 1   Product           186305 non-null  object\n",
      " 2   Quantity Ordered  186305 non-null  object\n",
      " 3   Price Each        186305 non-null  object\n",
      " 4   Order Date        186305 non-null  object\n",
      " 5   Purchase Address  186305 non-null  object\n",
      "dtypes: object(6)\n",
      "memory usage: 8.6+ MB\n"
     ]
    }
   ],
   "source": [
    "frame.info()"
   ]
  },
  {
   "cell_type": "markdown",
   "id": "a57b8703",
   "metadata": {},
   "source": [
    "### Merge all csv files into one"
   ]
  },
  {
   "cell_type": "code",
   "execution_count": 22,
   "id": "3979515f",
   "metadata": {
    "ExecuteTime": {
     "end_time": "2023-07-28T13:46:39.521143Z",
     "start_time": "2023-07-28T13:46:38.681281Z"
    }
   },
   "outputs": [],
   "source": [
    "files = [file for file in os.listdir('./Sales_Data')]\n",
    "\n",
    "all_months_data = pd.DataFrame()\n",
    "\n",
    "for file in files:\n",
    "    df = pd.read_csv('./Sales_Data/' + file)\n",
    "    all_months_data = pd.concat([all_months_data, df])"
   ]
  },
  {
   "cell_type": "code",
   "execution_count": 23,
   "id": "822fd7e3",
   "metadata": {
    "ExecuteTime": {
     "end_time": "2023-07-28T13:46:41.180122Z",
     "start_time": "2023-07-28T13:46:39.536137Z"
    }
   },
   "outputs": [],
   "source": [
    "all_months_data.to_csv('./Output/all_data.csv', index=False)"
   ]
  },
  {
   "cell_type": "code",
   "execution_count": 24,
   "id": "0965b406",
   "metadata": {
    "ExecuteTime": {
     "end_time": "2023-07-28T13:46:42.026588Z",
     "start_time": "2023-07-28T13:46:41.187110Z"
    }
   },
   "outputs": [],
   "source": [
    "all_data = pd.read_csv('./Output/all_data.csv')"
   ]
  },
  {
   "cell_type": "code",
   "execution_count": 25,
   "id": "f4e11aca",
   "metadata": {
    "ExecuteTime": {
     "end_time": "2023-07-28T13:46:42.459321Z",
     "start_time": "2023-07-28T13:46:42.038583Z"
    }
   },
   "outputs": [
    {
     "name": "stdout",
     "output_type": "stream",
     "text": [
      "<class 'pandas.core.frame.DataFrame'>\n",
      "RangeIndex: 186850 entries, 0 to 186849\n",
      "Data columns (total 6 columns):\n",
      " #   Column            Non-Null Count   Dtype \n",
      "---  ------            --------------   ----- \n",
      " 0   Order ID          186305 non-null  object\n",
      " 1   Product           186305 non-null  object\n",
      " 2   Quantity Ordered  186305 non-null  object\n",
      " 3   Price Each        186305 non-null  object\n",
      " 4   Order Date        186305 non-null  object\n",
      " 5   Purchase Address  186305 non-null  object\n",
      "dtypes: object(6)\n",
      "memory usage: 8.6+ MB\n"
     ]
    }
   ],
   "source": [
    "all_data.info()"
   ]
  },
  {
   "cell_type": "code",
   "execution_count": 26,
   "id": "9f8faf71",
   "metadata": {
    "ExecuteTime": {
     "end_time": "2023-07-28T13:46:42.951016Z",
     "start_time": "2023-07-28T13:46:42.473314Z"
    }
   },
   "outputs": [
    {
     "name": "stdout",
     "output_type": "stream",
     "text": [
      "<class 'pandas.core.frame.DataFrame'>\n",
      "RangeIndex: 186850 entries, 0 to 186849\n",
      "Data columns (total 7 columns):\n",
      " #   Column            Non-Null Count   Dtype \n",
      "---  ------            --------------   ----- \n",
      " 0   Order ID          186305 non-null  object\n",
      " 1   Product           186305 non-null  object\n",
      " 2   Quantity Ordered  186305 non-null  object\n",
      " 3   Price Each        186305 non-null  object\n",
      " 4   Order Date        186305 non-null  object\n",
      " 5   Purchase Address  186305 non-null  object\n",
      " 6   Month             186305 non-null  object\n",
      "dtypes: object(7)\n",
      "memory usage: 10.0+ MB\n"
     ]
    }
   ],
   "source": [
    "frame.info()"
   ]
  },
  {
   "cell_type": "code",
   "execution_count": 47,
   "id": "31eac03c",
   "metadata": {
    "ExecuteTime": {
     "end_time": "2023-07-28T14:56:58.940608Z",
     "start_time": "2023-07-28T14:56:58.125136Z"
    }
   },
   "outputs": [
    {
     "data": {
      "text/html": [
       "<div>\n",
       "<style scoped>\n",
       "    .dataframe tbody tr th:only-of-type {\n",
       "        vertical-align: middle;\n",
       "    }\n",
       "\n",
       "    .dataframe tbody tr th {\n",
       "        vertical-align: top;\n",
       "    }\n",
       "\n",
       "    .dataframe thead th {\n",
       "        text-align: right;\n",
       "    }\n",
       "</style>\n",
       "<table border=\"1\" class=\"dataframe\">\n",
       "  <thead>\n",
       "    <tr style=\"text-align: right;\">\n",
       "      <th></th>\n",
       "      <th>Unnamed: 0</th>\n",
       "      <th>Order ID</th>\n",
       "      <th>Product</th>\n",
       "      <th>Quantity Ordered</th>\n",
       "      <th>Price Each</th>\n",
       "      <th>Order Date</th>\n",
       "      <th>Purchase Address</th>\n",
       "    </tr>\n",
       "  </thead>\n",
       "  <tbody>\n",
       "    <tr>\n",
       "      <th>0</th>\n",
       "      <td>0</td>\n",
       "      <td>176558</td>\n",
       "      <td>USB-C Charging Cable</td>\n",
       "      <td>2</td>\n",
       "      <td>11.95</td>\n",
       "      <td>04/19/19 08:46</td>\n",
       "      <td>917 1st St, Dallas, TX 75001</td>\n",
       "    </tr>\n",
       "    <tr>\n",
       "      <th>1</th>\n",
       "      <td>1</td>\n",
       "      <td>NaN</td>\n",
       "      <td>NaN</td>\n",
       "      <td>NaN</td>\n",
       "      <td>NaN</td>\n",
       "      <td>NaN</td>\n",
       "      <td>NaN</td>\n",
       "    </tr>\n",
       "    <tr>\n",
       "      <th>2</th>\n",
       "      <td>2</td>\n",
       "      <td>176559</td>\n",
       "      <td>Bose SoundSport Headphones</td>\n",
       "      <td>1</td>\n",
       "      <td>99.99</td>\n",
       "      <td>04/07/19 22:30</td>\n",
       "      <td>682 Chestnut St, Boston, MA 02215</td>\n",
       "    </tr>\n",
       "    <tr>\n",
       "      <th>3</th>\n",
       "      <td>3</td>\n",
       "      <td>176560</td>\n",
       "      <td>Google Phone</td>\n",
       "      <td>1</td>\n",
       "      <td>600</td>\n",
       "      <td>04/12/19 14:38</td>\n",
       "      <td>669 Spruce St, Los Angeles, CA 90001</td>\n",
       "    </tr>\n",
       "    <tr>\n",
       "      <th>4</th>\n",
       "      <td>4</td>\n",
       "      <td>176560</td>\n",
       "      <td>Wired Headphones</td>\n",
       "      <td>1</td>\n",
       "      <td>11.99</td>\n",
       "      <td>04/12/19 14:38</td>\n",
       "      <td>669 Spruce St, Los Angeles, CA 90001</td>\n",
       "    </tr>\n",
       "  </tbody>\n",
       "</table>\n",
       "</div>"
      ],
      "text/plain": [
       "   Unnamed: 0 Order ID                     Product Quantity Ordered  \\\n",
       "0           0   176558        USB-C Charging Cable                2   \n",
       "1           1      NaN                         NaN              NaN   \n",
       "2           2   176559  Bose SoundSport Headphones                1   \n",
       "3           3   176560                Google Phone                1   \n",
       "4           4   176560            Wired Headphones                1   \n",
       "\n",
       "  Price Each      Order Date                      Purchase Address  \n",
       "0      11.95  04/19/19 08:46          917 1st St, Dallas, TX 75001  \n",
       "1        NaN             NaN                                   NaN  \n",
       "2      99.99  04/07/19 22:30     682 Chestnut St, Boston, MA 02215  \n",
       "3        600  04/12/19 14:38  669 Spruce St, Los Angeles, CA 90001  \n",
       "4      11.99  04/12/19 14:38  669 Spruce St, Los Angeles, CA 90001  "
      ]
     },
     "execution_count": 47,
     "metadata": {},
     "output_type": "execute_result"
    }
   ],
   "source": [
    "#read the data set into a pandas dataframe\n",
    "df = pd.read_csv('merged.csv')\n",
    "\n",
    "df.head(5)"
   ]
  },
  {
   "cell_type": "code",
   "execution_count": 27,
   "id": "463dffe9",
   "metadata": {
    "ExecuteTime": {
     "end_time": "2023-07-28T13:46:43.366762Z",
     "start_time": "2023-07-28T13:46:42.960012Z"
    }
   },
   "outputs": [
    {
     "data": {
      "text/html": [
       "<div>\n",
       "<style scoped>\n",
       "    .dataframe tbody tr th:only-of-type {\n",
       "        vertical-align: middle;\n",
       "    }\n",
       "\n",
       "    .dataframe tbody tr th {\n",
       "        vertical-align: top;\n",
       "    }\n",
       "\n",
       "    .dataframe thead th {\n",
       "        text-align: right;\n",
       "    }\n",
       "</style>\n",
       "<table border=\"1\" class=\"dataframe\">\n",
       "  <thead>\n",
       "    <tr style=\"text-align: right;\">\n",
       "      <th></th>\n",
       "      <th>Order ID</th>\n",
       "      <th>Product</th>\n",
       "      <th>Quantity Ordered</th>\n",
       "      <th>Price Each</th>\n",
       "      <th>Order Date</th>\n",
       "      <th>Purchase Address</th>\n",
       "    </tr>\n",
       "  </thead>\n",
       "  <tbody>\n",
       "    <tr>\n",
       "      <th>0</th>\n",
       "      <td>176558</td>\n",
       "      <td>USB-C Charging Cable</td>\n",
       "      <td>2</td>\n",
       "      <td>11.95</td>\n",
       "      <td>04/19/19 08:46</td>\n",
       "      <td>917 1st St, Dallas, TX 75001</td>\n",
       "    </tr>\n",
       "    <tr>\n",
       "      <th>1</th>\n",
       "      <td>NaN</td>\n",
       "      <td>NaN</td>\n",
       "      <td>NaN</td>\n",
       "      <td>NaN</td>\n",
       "      <td>NaN</td>\n",
       "      <td>NaN</td>\n",
       "    </tr>\n",
       "    <tr>\n",
       "      <th>2</th>\n",
       "      <td>176559</td>\n",
       "      <td>Bose SoundSport Headphones</td>\n",
       "      <td>1</td>\n",
       "      <td>99.99</td>\n",
       "      <td>04/07/19 22:30</td>\n",
       "      <td>682 Chestnut St, Boston, MA 02215</td>\n",
       "    </tr>\n",
       "    <tr>\n",
       "      <th>3</th>\n",
       "      <td>176560</td>\n",
       "      <td>Google Phone</td>\n",
       "      <td>1</td>\n",
       "      <td>600</td>\n",
       "      <td>04/12/19 14:38</td>\n",
       "      <td>669 Spruce St, Los Angeles, CA 90001</td>\n",
       "    </tr>\n",
       "    <tr>\n",
       "      <th>4</th>\n",
       "      <td>176560</td>\n",
       "      <td>Wired Headphones</td>\n",
       "      <td>1</td>\n",
       "      <td>11.99</td>\n",
       "      <td>04/12/19 14:38</td>\n",
       "      <td>669 Spruce St, Los Angeles, CA 90001</td>\n",
       "    </tr>\n",
       "  </tbody>\n",
       "</table>\n",
       "</div>"
      ],
      "text/plain": [
       "  Order ID                     Product Quantity Ordered Price Each  \\\n",
       "0   176558        USB-C Charging Cable                2      11.95   \n",
       "1      NaN                         NaN              NaN        NaN   \n",
       "2   176559  Bose SoundSport Headphones                1      99.99   \n",
       "3   176560                Google Phone                1        600   \n",
       "4   176560            Wired Headphones                1      11.99   \n",
       "\n",
       "       Order Date                      Purchase Address  \n",
       "0  04/19/19 08:46          917 1st St, Dallas, TX 75001  \n",
       "1             NaN                                   NaN  \n",
       "2  04/07/19 22:30     682 Chestnut St, Boston, MA 02215  \n",
       "3  04/12/19 14:38  669 Spruce St, Los Angeles, CA 90001  \n",
       "4  04/12/19 14:38  669 Spruce St, Los Angeles, CA 90001  "
      ]
     },
     "execution_count": 27,
     "metadata": {},
     "output_type": "execute_result"
    }
   ],
   "source": [
    "all_data.head(5)"
   ]
  },
  {
   "cell_type": "code",
   "execution_count": 28,
   "id": "1a2fb603",
   "metadata": {
    "ExecuteTime": {
     "end_time": "2023-07-28T13:46:44.341154Z",
     "start_time": "2023-07-28T13:46:43.910422Z"
    }
   },
   "outputs": [],
   "source": [
    "frame.dropna(how='all', inplace=True)"
   ]
  },
  {
   "cell_type": "code",
   "execution_count": 29,
   "id": "a7697ee7",
   "metadata": {
    "ExecuteTime": {
     "end_time": "2023-07-28T13:46:45.107679Z",
     "start_time": "2023-07-28T13:46:45.072703Z"
    }
   },
   "outputs": [
    {
     "data": {
      "text/html": [
       "<div>\n",
       "<style scoped>\n",
       "    .dataframe tbody tr th:only-of-type {\n",
       "        vertical-align: middle;\n",
       "    }\n",
       "\n",
       "    .dataframe tbody tr th {\n",
       "        vertical-align: top;\n",
       "    }\n",
       "\n",
       "    .dataframe thead th {\n",
       "        text-align: right;\n",
       "    }\n",
       "</style>\n",
       "<table border=\"1\" class=\"dataframe\">\n",
       "  <thead>\n",
       "    <tr style=\"text-align: right;\">\n",
       "      <th></th>\n",
       "      <th>Order ID</th>\n",
       "      <th>Product</th>\n",
       "      <th>Quantity Ordered</th>\n",
       "      <th>Price Each</th>\n",
       "      <th>Order Date</th>\n",
       "      <th>Purchase Address</th>\n",
       "      <th>Month</th>\n",
       "    </tr>\n",
       "  </thead>\n",
       "  <tbody>\n",
       "    <tr>\n",
       "      <th>0</th>\n",
       "      <td>176558</td>\n",
       "      <td>USB-C Charging Cable</td>\n",
       "      <td>2</td>\n",
       "      <td>11.95</td>\n",
       "      <td>04/19/19 08:46</td>\n",
       "      <td>917 1st St, Dallas, TX 75001</td>\n",
       "      <td>04</td>\n",
       "    </tr>\n",
       "    <tr>\n",
       "      <th>2</th>\n",
       "      <td>176559</td>\n",
       "      <td>Bose SoundSport Headphones</td>\n",
       "      <td>1</td>\n",
       "      <td>99.99</td>\n",
       "      <td>04/07/19 22:30</td>\n",
       "      <td>682 Chestnut St, Boston, MA 02215</td>\n",
       "      <td>04</td>\n",
       "    </tr>\n",
       "    <tr>\n",
       "      <th>3</th>\n",
       "      <td>176560</td>\n",
       "      <td>Google Phone</td>\n",
       "      <td>1</td>\n",
       "      <td>600</td>\n",
       "      <td>04/12/19 14:38</td>\n",
       "      <td>669 Spruce St, Los Angeles, CA 90001</td>\n",
       "      <td>04</td>\n",
       "    </tr>\n",
       "    <tr>\n",
       "      <th>4</th>\n",
       "      <td>176560</td>\n",
       "      <td>Wired Headphones</td>\n",
       "      <td>1</td>\n",
       "      <td>11.99</td>\n",
       "      <td>04/12/19 14:38</td>\n",
       "      <td>669 Spruce St, Los Angeles, CA 90001</td>\n",
       "      <td>04</td>\n",
       "    </tr>\n",
       "    <tr>\n",
       "      <th>5</th>\n",
       "      <td>176561</td>\n",
       "      <td>Wired Headphones</td>\n",
       "      <td>1</td>\n",
       "      <td>11.99</td>\n",
       "      <td>04/30/19 09:27</td>\n",
       "      <td>333 8th St, Los Angeles, CA 90001</td>\n",
       "      <td>04</td>\n",
       "    </tr>\n",
       "    <tr>\n",
       "      <th>6</th>\n",
       "      <td>176562</td>\n",
       "      <td>USB-C Charging Cable</td>\n",
       "      <td>1</td>\n",
       "      <td>11.95</td>\n",
       "      <td>04/29/19 13:03</td>\n",
       "      <td>381 Wilson St, San Francisco, CA 94016</td>\n",
       "      <td>04</td>\n",
       "    </tr>\n",
       "    <tr>\n",
       "      <th>7</th>\n",
       "      <td>176563</td>\n",
       "      <td>Bose SoundSport Headphones</td>\n",
       "      <td>1</td>\n",
       "      <td>99.99</td>\n",
       "      <td>04/02/19 07:46</td>\n",
       "      <td>668 Center St, Seattle, WA 98101</td>\n",
       "      <td>04</td>\n",
       "    </tr>\n",
       "    <tr>\n",
       "      <th>8</th>\n",
       "      <td>176564</td>\n",
       "      <td>USB-C Charging Cable</td>\n",
       "      <td>1</td>\n",
       "      <td>11.95</td>\n",
       "      <td>04/12/19 10:58</td>\n",
       "      <td>790 Ridge St, Atlanta, GA 30301</td>\n",
       "      <td>04</td>\n",
       "    </tr>\n",
       "    <tr>\n",
       "      <th>9</th>\n",
       "      <td>176565</td>\n",
       "      <td>Macbook Pro Laptop</td>\n",
       "      <td>1</td>\n",
       "      <td>1700</td>\n",
       "      <td>04/24/19 10:38</td>\n",
       "      <td>915 Willow St, San Francisco, CA 94016</td>\n",
       "      <td>04</td>\n",
       "    </tr>\n",
       "    <tr>\n",
       "      <th>10</th>\n",
       "      <td>176566</td>\n",
       "      <td>Wired Headphones</td>\n",
       "      <td>1</td>\n",
       "      <td>11.99</td>\n",
       "      <td>04/08/19 14:05</td>\n",
       "      <td>83 7th St, Boston, MA 02215</td>\n",
       "      <td>04</td>\n",
       "    </tr>\n",
       "  </tbody>\n",
       "</table>\n",
       "</div>"
      ],
      "text/plain": [
       "   Order ID                     Product Quantity Ordered Price Each  \\\n",
       "0    176558        USB-C Charging Cable                2      11.95   \n",
       "2    176559  Bose SoundSport Headphones                1      99.99   \n",
       "3    176560                Google Phone                1        600   \n",
       "4    176560            Wired Headphones                1      11.99   \n",
       "5    176561            Wired Headphones                1      11.99   \n",
       "6    176562        USB-C Charging Cable                1      11.95   \n",
       "7    176563  Bose SoundSport Headphones                1      99.99   \n",
       "8    176564        USB-C Charging Cable                1      11.95   \n",
       "9    176565          Macbook Pro Laptop                1       1700   \n",
       "10   176566            Wired Headphones                1      11.99   \n",
       "\n",
       "        Order Date                        Purchase Address Month  \n",
       "0   04/19/19 08:46            917 1st St, Dallas, TX 75001    04  \n",
       "2   04/07/19 22:30       682 Chestnut St, Boston, MA 02215    04  \n",
       "3   04/12/19 14:38    669 Spruce St, Los Angeles, CA 90001    04  \n",
       "4   04/12/19 14:38    669 Spruce St, Los Angeles, CA 90001    04  \n",
       "5   04/30/19 09:27       333 8th St, Los Angeles, CA 90001    04  \n",
       "6   04/29/19 13:03  381 Wilson St, San Francisco, CA 94016    04  \n",
       "7   04/02/19 07:46        668 Center St, Seattle, WA 98101    04  \n",
       "8   04/12/19 10:58         790 Ridge St, Atlanta, GA 30301    04  \n",
       "9   04/24/19 10:38  915 Willow St, San Francisco, CA 94016    04  \n",
       "10  04/08/19 14:05             83 7th St, Boston, MA 02215    04  "
      ]
     },
     "execution_count": 29,
     "metadata": {},
     "output_type": "execute_result"
    }
   ],
   "source": [
    "frame.head(10)"
   ]
  },
  {
   "cell_type": "code",
   "execution_count": 30,
   "id": "0aab8daa",
   "metadata": {
    "ExecuteTime": {
     "end_time": "2023-07-28T13:46:49.735812Z",
     "start_time": "2023-07-28T13:46:49.381030Z"
    }
   },
   "outputs": [
    {
     "data": {
      "text/plain": [
       "Order ID            0\n",
       "Product             0\n",
       "Quantity Ordered    0\n",
       "Price Each          0\n",
       "Order Date          0\n",
       "Purchase Address    0\n",
       "Month               0\n",
       "dtype: int64"
      ]
     },
     "execution_count": 30,
     "metadata": {},
     "output_type": "execute_result"
    }
   ],
   "source": [
    "frame.isnull().sum()"
   ]
  },
  {
   "cell_type": "code",
   "execution_count": 31,
   "id": "5856b4bb",
   "metadata": {
    "ExecuteTime": {
     "end_time": "2023-07-28T13:46:51.076979Z",
     "start_time": "2023-07-28T13:46:50.765174Z"
    }
   },
   "outputs": [
    {
     "data": {
      "text/plain": [
       "Order ID            545\n",
       "Product             545\n",
       "Quantity Ordered    545\n",
       "Price Each          545\n",
       "Order Date          545\n",
       "Purchase Address    545\n",
       "dtype: int64"
      ]
     },
     "execution_count": 31,
     "metadata": {},
     "output_type": "execute_result"
    }
   ],
   "source": [
    "all_data.isnull().sum()"
   ]
  },
  {
   "cell_type": "code",
   "execution_count": 32,
   "id": "f2c2bdbe",
   "metadata": {
    "ExecuteTime": {
     "end_time": "2023-07-28T13:46:54.593800Z",
     "start_time": "2023-07-28T13:46:54.566816Z"
    }
   },
   "outputs": [
    {
     "data": {
      "text/html": [
       "<div>\n",
       "<style scoped>\n",
       "    .dataframe tbody tr th:only-of-type {\n",
       "        vertical-align: middle;\n",
       "    }\n",
       "\n",
       "    .dataframe tbody tr th {\n",
       "        vertical-align: top;\n",
       "    }\n",
       "\n",
       "    .dataframe thead th {\n",
       "        text-align: right;\n",
       "    }\n",
       "</style>\n",
       "<table border=\"1\" class=\"dataframe\">\n",
       "  <thead>\n",
       "    <tr style=\"text-align: right;\">\n",
       "      <th></th>\n",
       "      <th>Order ID</th>\n",
       "      <th>Product</th>\n",
       "      <th>Quantity Ordered</th>\n",
       "      <th>Price Each</th>\n",
       "      <th>Order Date</th>\n",
       "      <th>Purchase Address</th>\n",
       "      <th>Month</th>\n",
       "    </tr>\n",
       "  </thead>\n",
       "  <tbody>\n",
       "    <tr>\n",
       "      <th>0</th>\n",
       "      <td>176558</td>\n",
       "      <td>USB-C Charging Cable</td>\n",
       "      <td>2</td>\n",
       "      <td>11.95</td>\n",
       "      <td>04/19/19 08:46</td>\n",
       "      <td>917 1st St, Dallas, TX 75001</td>\n",
       "      <td>04</td>\n",
       "    </tr>\n",
       "    <tr>\n",
       "      <th>2</th>\n",
       "      <td>176559</td>\n",
       "      <td>Bose SoundSport Headphones</td>\n",
       "      <td>1</td>\n",
       "      <td>99.99</td>\n",
       "      <td>04/07/19 22:30</td>\n",
       "      <td>682 Chestnut St, Boston, MA 02215</td>\n",
       "      <td>04</td>\n",
       "    </tr>\n",
       "    <tr>\n",
       "      <th>3</th>\n",
       "      <td>176560</td>\n",
       "      <td>Google Phone</td>\n",
       "      <td>1</td>\n",
       "      <td>600</td>\n",
       "      <td>04/12/19 14:38</td>\n",
       "      <td>669 Spruce St, Los Angeles, CA 90001</td>\n",
       "      <td>04</td>\n",
       "    </tr>\n",
       "    <tr>\n",
       "      <th>4</th>\n",
       "      <td>176560</td>\n",
       "      <td>Wired Headphones</td>\n",
       "      <td>1</td>\n",
       "      <td>11.99</td>\n",
       "      <td>04/12/19 14:38</td>\n",
       "      <td>669 Spruce St, Los Angeles, CA 90001</td>\n",
       "      <td>04</td>\n",
       "    </tr>\n",
       "    <tr>\n",
       "      <th>5</th>\n",
       "      <td>176561</td>\n",
       "      <td>Wired Headphones</td>\n",
       "      <td>1</td>\n",
       "      <td>11.99</td>\n",
       "      <td>04/30/19 09:27</td>\n",
       "      <td>333 8th St, Los Angeles, CA 90001</td>\n",
       "      <td>04</td>\n",
       "    </tr>\n",
       "  </tbody>\n",
       "</table>\n",
       "</div>"
      ],
      "text/plain": [
       "  Order ID                     Product Quantity Ordered Price Each  \\\n",
       "0   176558        USB-C Charging Cable                2      11.95   \n",
       "2   176559  Bose SoundSport Headphones                1      99.99   \n",
       "3   176560                Google Phone                1        600   \n",
       "4   176560            Wired Headphones                1      11.99   \n",
       "5   176561            Wired Headphones                1      11.99   \n",
       "\n",
       "       Order Date                      Purchase Address Month  \n",
       "0  04/19/19 08:46          917 1st St, Dallas, TX 75001    04  \n",
       "2  04/07/19 22:30     682 Chestnut St, Boston, MA 02215    04  \n",
       "3  04/12/19 14:38  669 Spruce St, Los Angeles, CA 90001    04  \n",
       "4  04/12/19 14:38  669 Spruce St, Los Angeles, CA 90001    04  \n",
       "5  04/30/19 09:27     333 8th St, Los Angeles, CA 90001    04  "
      ]
     },
     "execution_count": 32,
     "metadata": {},
     "output_type": "execute_result"
    }
   ],
   "source": [
    "frame.head()"
   ]
  },
  {
   "cell_type": "code",
   "execution_count": null,
   "id": "31604aaa",
   "metadata": {
    "ExecuteTime": {
     "end_time": "2023-05-10T11:00:40.293247Z",
     "start_time": "2023-05-10T11:00:37.898704Z"
    }
   },
   "outputs": [],
   "source": []
  },
  {
   "cell_type": "code",
   "execution_count": 33,
   "id": "b3343adc",
   "metadata": {
    "ExecuteTime": {
     "end_time": "2023-07-28T13:46:57.545540Z",
     "start_time": "2023-07-28T13:46:57.337667Z"
    }
   },
   "outputs": [
    {
     "data": {
      "text/html": [
       "<div>\n",
       "<style scoped>\n",
       "    .dataframe tbody tr th:only-of-type {\n",
       "        vertical-align: middle;\n",
       "    }\n",
       "\n",
       "    .dataframe tbody tr th {\n",
       "        vertical-align: top;\n",
       "    }\n",
       "\n",
       "    .dataframe thead th {\n",
       "        text-align: right;\n",
       "    }\n",
       "</style>\n",
       "<table border=\"1\" class=\"dataframe\">\n",
       "  <thead>\n",
       "    <tr style=\"text-align: right;\">\n",
       "      <th></th>\n",
       "      <th>Order ID</th>\n",
       "      <th>Product</th>\n",
       "      <th>Quantity Ordered</th>\n",
       "      <th>Price Each</th>\n",
       "      <th>Order Date</th>\n",
       "      <th>Purchase Address</th>\n",
       "      <th>Month</th>\n",
       "    </tr>\n",
       "  </thead>\n",
       "  <tbody>\n",
       "    <tr>\n",
       "      <th>0</th>\n",
       "      <td>176558</td>\n",
       "      <td>USB-C Charging Cable</td>\n",
       "      <td>2</td>\n",
       "      <td>11.95</td>\n",
       "      <td>04/19/19 08:46</td>\n",
       "      <td>917 1st St, Dallas, TX 75001</td>\n",
       "      <td>04</td>\n",
       "    </tr>\n",
       "    <tr>\n",
       "      <th>2</th>\n",
       "      <td>176559</td>\n",
       "      <td>Bose SoundSport Headphones</td>\n",
       "      <td>1</td>\n",
       "      <td>99.99</td>\n",
       "      <td>04/07/19 22:30</td>\n",
       "      <td>682 Chestnut St, Boston, MA 02215</td>\n",
       "      <td>04</td>\n",
       "    </tr>\n",
       "    <tr>\n",
       "      <th>3</th>\n",
       "      <td>176560</td>\n",
       "      <td>Google Phone</td>\n",
       "      <td>1</td>\n",
       "      <td>600</td>\n",
       "      <td>04/12/19 14:38</td>\n",
       "      <td>669 Spruce St, Los Angeles, CA 90001</td>\n",
       "      <td>04</td>\n",
       "    </tr>\n",
       "    <tr>\n",
       "      <th>4</th>\n",
       "      <td>176560</td>\n",
       "      <td>Wired Headphones</td>\n",
       "      <td>1</td>\n",
       "      <td>11.99</td>\n",
       "      <td>04/12/19 14:38</td>\n",
       "      <td>669 Spruce St, Los Angeles, CA 90001</td>\n",
       "      <td>04</td>\n",
       "    </tr>\n",
       "    <tr>\n",
       "      <th>5</th>\n",
       "      <td>176561</td>\n",
       "      <td>Wired Headphones</td>\n",
       "      <td>1</td>\n",
       "      <td>11.99</td>\n",
       "      <td>04/30/19 09:27</td>\n",
       "      <td>333 8th St, Los Angeles, CA 90001</td>\n",
       "      <td>04</td>\n",
       "    </tr>\n",
       "  </tbody>\n",
       "</table>\n",
       "</div>"
      ],
      "text/plain": [
       "  Order ID                     Product Quantity Ordered Price Each  \\\n",
       "0   176558        USB-C Charging Cable                2      11.95   \n",
       "2   176559  Bose SoundSport Headphones                1      99.99   \n",
       "3   176560                Google Phone                1        600   \n",
       "4   176560            Wired Headphones                1      11.99   \n",
       "5   176561            Wired Headphones                1      11.99   \n",
       "\n",
       "       Order Date                      Purchase Address Month  \n",
       "0  04/19/19 08:46          917 1st St, Dallas, TX 75001    04  \n",
       "2  04/07/19 22:30     682 Chestnut St, Boston, MA 02215    04  \n",
       "3  04/12/19 14:38  669 Spruce St, Los Angeles, CA 90001    04  \n",
       "4  04/12/19 14:38  669 Spruce St, Los Angeles, CA 90001    04  \n",
       "5  04/30/19 09:27     333 8th St, Los Angeles, CA 90001    04  "
      ]
     },
     "execution_count": 33,
     "metadata": {},
     "output_type": "execute_result"
    }
   ],
   "source": [
    "frame = frame[frame['Order Date'].str[0:2] != \"Or\"]\n",
    "frame.head()"
   ]
  },
  {
   "cell_type": "code",
   "execution_count": 34,
   "id": "6b509e79",
   "metadata": {
    "ExecuteTime": {
     "end_time": "2023-07-28T13:46:58.636936Z",
     "start_time": "2023-07-28T13:46:58.611948Z"
    }
   },
   "outputs": [
    {
     "data": {
      "text/html": [
       "<div>\n",
       "<style scoped>\n",
       "    .dataframe tbody tr th:only-of-type {\n",
       "        vertical-align: middle;\n",
       "    }\n",
       "\n",
       "    .dataframe tbody tr th {\n",
       "        vertical-align: top;\n",
       "    }\n",
       "\n",
       "    .dataframe thead th {\n",
       "        text-align: right;\n",
       "    }\n",
       "</style>\n",
       "<table border=\"1\" class=\"dataframe\">\n",
       "  <thead>\n",
       "    <tr style=\"text-align: right;\">\n",
       "      <th></th>\n",
       "      <th>Order ID</th>\n",
       "      <th>Product</th>\n",
       "      <th>Quantity Ordered</th>\n",
       "      <th>Price Each</th>\n",
       "      <th>Order Date</th>\n",
       "      <th>Purchase Address</th>\n",
       "      <th>Month</th>\n",
       "    </tr>\n",
       "  </thead>\n",
       "  <tbody>\n",
       "    <tr>\n",
       "      <th>0</th>\n",
       "      <td>176558</td>\n",
       "      <td>USB-C Charging Cable</td>\n",
       "      <td>2</td>\n",
       "      <td>11.95</td>\n",
       "      <td>04/19/19 08:46</td>\n",
       "      <td>917 1st St, Dallas, TX 75001</td>\n",
       "      <td>04</td>\n",
       "    </tr>\n",
       "    <tr>\n",
       "      <th>2</th>\n",
       "      <td>176559</td>\n",
       "      <td>Bose SoundSport Headphones</td>\n",
       "      <td>1</td>\n",
       "      <td>99.99</td>\n",
       "      <td>04/07/19 22:30</td>\n",
       "      <td>682 Chestnut St, Boston, MA 02215</td>\n",
       "      <td>04</td>\n",
       "    </tr>\n",
       "    <tr>\n",
       "      <th>3</th>\n",
       "      <td>176560</td>\n",
       "      <td>Google Phone</td>\n",
       "      <td>1</td>\n",
       "      <td>600</td>\n",
       "      <td>04/12/19 14:38</td>\n",
       "      <td>669 Spruce St, Los Angeles, CA 90001</td>\n",
       "      <td>04</td>\n",
       "    </tr>\n",
       "    <tr>\n",
       "      <th>4</th>\n",
       "      <td>176560</td>\n",
       "      <td>Wired Headphones</td>\n",
       "      <td>1</td>\n",
       "      <td>11.99</td>\n",
       "      <td>04/12/19 14:38</td>\n",
       "      <td>669 Spruce St, Los Angeles, CA 90001</td>\n",
       "      <td>04</td>\n",
       "    </tr>\n",
       "    <tr>\n",
       "      <th>5</th>\n",
       "      <td>176561</td>\n",
       "      <td>Wired Headphones</td>\n",
       "      <td>1</td>\n",
       "      <td>11.99</td>\n",
       "      <td>04/30/19 09:27</td>\n",
       "      <td>333 8th St, Los Angeles, CA 90001</td>\n",
       "      <td>04</td>\n",
       "    </tr>\n",
       "  </tbody>\n",
       "</table>\n",
       "</div>"
      ],
      "text/plain": [
       "  Order ID                     Product Quantity Ordered Price Each  \\\n",
       "0   176558        USB-C Charging Cable                2      11.95   \n",
       "2   176559  Bose SoundSport Headphones                1      99.99   \n",
       "3   176560                Google Phone                1        600   \n",
       "4   176560            Wired Headphones                1      11.99   \n",
       "5   176561            Wired Headphones                1      11.99   \n",
       "\n",
       "       Order Date                      Purchase Address Month  \n",
       "0  04/19/19 08:46          917 1st St, Dallas, TX 75001    04  \n",
       "2  04/07/19 22:30     682 Chestnut St, Boston, MA 02215    04  \n",
       "3  04/12/19 14:38  669 Spruce St, Los Angeles, CA 90001    04  \n",
       "4  04/12/19 14:38  669 Spruce St, Los Angeles, CA 90001    04  \n",
       "5  04/30/19 09:27     333 8th St, Los Angeles, CA 90001    04  "
      ]
     },
     "execution_count": 34,
     "metadata": {},
     "output_type": "execute_result"
    }
   ],
   "source": [
    "frame.head()"
   ]
  },
  {
   "cell_type": "code",
   "execution_count": 35,
   "id": "b84e20bc",
   "metadata": {
    "ExecuteTime": {
     "end_time": "2023-07-28T13:47:00.370332Z",
     "start_time": "2023-07-28T13:47:00.120488Z"
    }
   },
   "outputs": [],
   "source": [
    "frame['Month'] = frame['Order Date'].str[0:2] # To add month column and slice Ordered Date first two strings\n",
    "frame['Month'] = frame['Month'].astype('int32') # To convert Month to int32"
   ]
  },
  {
   "cell_type": "code",
   "execution_count": 36,
   "id": "14f54418",
   "metadata": {
    "ExecuteTime": {
     "end_time": "2023-07-28T13:47:02.202196Z",
     "start_time": "2023-07-28T13:47:01.851415Z"
    }
   },
   "outputs": [],
   "source": [
    "frame['Quantity Ordered'] = pd.to_numeric(frame['Quantity Ordered']) # To convert to int\n",
    "frame['Price Each'] = pd.to_numeric(frame['Price Each']) # To convert to float"
   ]
  },
  {
   "cell_type": "code",
   "execution_count": 37,
   "id": "50ce2a79",
   "metadata": {
    "ExecuteTime": {
     "end_time": "2023-07-28T13:47:03.668583Z",
     "start_time": "2023-07-28T13:47:03.636602Z"
    }
   },
   "outputs": [
    {
     "data": {
      "text/html": [
       "<div>\n",
       "<style scoped>\n",
       "    .dataframe tbody tr th:only-of-type {\n",
       "        vertical-align: middle;\n",
       "    }\n",
       "\n",
       "    .dataframe tbody tr th {\n",
       "        vertical-align: top;\n",
       "    }\n",
       "\n",
       "    .dataframe thead th {\n",
       "        text-align: right;\n",
       "    }\n",
       "</style>\n",
       "<table border=\"1\" class=\"dataframe\">\n",
       "  <thead>\n",
       "    <tr style=\"text-align: right;\">\n",
       "      <th></th>\n",
       "      <th>Order ID</th>\n",
       "      <th>Product</th>\n",
       "      <th>Quantity Ordered</th>\n",
       "      <th>Price Each</th>\n",
       "      <th>Order Date</th>\n",
       "      <th>Purchase Address</th>\n",
       "      <th>Month</th>\n",
       "    </tr>\n",
       "  </thead>\n",
       "  <tbody>\n",
       "    <tr>\n",
       "      <th>0</th>\n",
       "      <td>176558</td>\n",
       "      <td>USB-C Charging Cable</td>\n",
       "      <td>2</td>\n",
       "      <td>11.95</td>\n",
       "      <td>04/19/19 08:46</td>\n",
       "      <td>917 1st St, Dallas, TX 75001</td>\n",
       "      <td>4</td>\n",
       "    </tr>\n",
       "    <tr>\n",
       "      <th>2</th>\n",
       "      <td>176559</td>\n",
       "      <td>Bose SoundSport Headphones</td>\n",
       "      <td>1</td>\n",
       "      <td>99.99</td>\n",
       "      <td>04/07/19 22:30</td>\n",
       "      <td>682 Chestnut St, Boston, MA 02215</td>\n",
       "      <td>4</td>\n",
       "    </tr>\n",
       "    <tr>\n",
       "      <th>3</th>\n",
       "      <td>176560</td>\n",
       "      <td>Google Phone</td>\n",
       "      <td>1</td>\n",
       "      <td>600.00</td>\n",
       "      <td>04/12/19 14:38</td>\n",
       "      <td>669 Spruce St, Los Angeles, CA 90001</td>\n",
       "      <td>4</td>\n",
       "    </tr>\n",
       "    <tr>\n",
       "      <th>4</th>\n",
       "      <td>176560</td>\n",
       "      <td>Wired Headphones</td>\n",
       "      <td>1</td>\n",
       "      <td>11.99</td>\n",
       "      <td>04/12/19 14:38</td>\n",
       "      <td>669 Spruce St, Los Angeles, CA 90001</td>\n",
       "      <td>4</td>\n",
       "    </tr>\n",
       "    <tr>\n",
       "      <th>5</th>\n",
       "      <td>176561</td>\n",
       "      <td>Wired Headphones</td>\n",
       "      <td>1</td>\n",
       "      <td>11.99</td>\n",
       "      <td>04/30/19 09:27</td>\n",
       "      <td>333 8th St, Los Angeles, CA 90001</td>\n",
       "      <td>4</td>\n",
       "    </tr>\n",
       "  </tbody>\n",
       "</table>\n",
       "</div>"
      ],
      "text/plain": [
       "  Order ID                     Product  Quantity Ordered  Price Each  \\\n",
       "0   176558        USB-C Charging Cable                 2       11.95   \n",
       "2   176559  Bose SoundSport Headphones                 1       99.99   \n",
       "3   176560                Google Phone                 1      600.00   \n",
       "4   176560            Wired Headphones                 1       11.99   \n",
       "5   176561            Wired Headphones                 1       11.99   \n",
       "\n",
       "       Order Date                      Purchase Address  Month  \n",
       "0  04/19/19 08:46          917 1st St, Dallas, TX 75001      4  \n",
       "2  04/07/19 22:30     682 Chestnut St, Boston, MA 02215      4  \n",
       "3  04/12/19 14:38  669 Spruce St, Los Angeles, CA 90001      4  \n",
       "4  04/12/19 14:38  669 Spruce St, Los Angeles, CA 90001      4  \n",
       "5  04/30/19 09:27     333 8th St, Los Angeles, CA 90001      4  "
      ]
     },
     "execution_count": 37,
     "metadata": {},
     "output_type": "execute_result"
    }
   ],
   "source": [
    "frame.head()"
   ]
  },
  {
   "cell_type": "code",
   "execution_count": 38,
   "id": "82afea87",
   "metadata": {
    "ExecuteTime": {
     "end_time": "2023-07-28T13:47:04.546038Z",
     "start_time": "2023-07-28T13:47:04.524050Z"
    }
   },
   "outputs": [],
   "source": [
    "frame['Sales'] = frame['Quantity Ordered'] * frame['Price Each']"
   ]
  },
  {
   "cell_type": "code",
   "execution_count": 39,
   "id": "87e7da6b",
   "metadata": {
    "ExecuteTime": {
     "end_time": "2023-07-28T13:47:05.887203Z",
     "start_time": "2023-07-28T13:47:05.860222Z"
    }
   },
   "outputs": [
    {
     "data": {
      "text/html": [
       "<div>\n",
       "<style scoped>\n",
       "    .dataframe tbody tr th:only-of-type {\n",
       "        vertical-align: middle;\n",
       "    }\n",
       "\n",
       "    .dataframe tbody tr th {\n",
       "        vertical-align: top;\n",
       "    }\n",
       "\n",
       "    .dataframe thead th {\n",
       "        text-align: right;\n",
       "    }\n",
       "</style>\n",
       "<table border=\"1\" class=\"dataframe\">\n",
       "  <thead>\n",
       "    <tr style=\"text-align: right;\">\n",
       "      <th></th>\n",
       "      <th>Order ID</th>\n",
       "      <th>Product</th>\n",
       "      <th>Quantity Ordered</th>\n",
       "      <th>Price Each</th>\n",
       "      <th>Order Date</th>\n",
       "      <th>Purchase Address</th>\n",
       "      <th>Month</th>\n",
       "      <th>Sales</th>\n",
       "    </tr>\n",
       "  </thead>\n",
       "  <tbody>\n",
       "    <tr>\n",
       "      <th>0</th>\n",
       "      <td>176558</td>\n",
       "      <td>USB-C Charging Cable</td>\n",
       "      <td>2</td>\n",
       "      <td>11.95</td>\n",
       "      <td>04/19/19 08:46</td>\n",
       "      <td>917 1st St, Dallas, TX 75001</td>\n",
       "      <td>4</td>\n",
       "      <td>23.90</td>\n",
       "    </tr>\n",
       "    <tr>\n",
       "      <th>2</th>\n",
       "      <td>176559</td>\n",
       "      <td>Bose SoundSport Headphones</td>\n",
       "      <td>1</td>\n",
       "      <td>99.99</td>\n",
       "      <td>04/07/19 22:30</td>\n",
       "      <td>682 Chestnut St, Boston, MA 02215</td>\n",
       "      <td>4</td>\n",
       "      <td>99.99</td>\n",
       "    </tr>\n",
       "  </tbody>\n",
       "</table>\n",
       "</div>"
      ],
      "text/plain": [
       "  Order ID                     Product  Quantity Ordered  Price Each  \\\n",
       "0   176558        USB-C Charging Cable                 2       11.95   \n",
       "2   176559  Bose SoundSport Headphones                 1       99.99   \n",
       "\n",
       "       Order Date                   Purchase Address  Month  Sales  \n",
       "0  04/19/19 08:46       917 1st St, Dallas, TX 75001      4  23.90  \n",
       "2  04/07/19 22:30  682 Chestnut St, Boston, MA 02215      4  99.99  "
      ]
     },
     "execution_count": 39,
     "metadata": {},
     "output_type": "execute_result"
    }
   ],
   "source": [
    "frame.head(2)"
   ]
  },
  {
   "cell_type": "markdown",
   "id": "888d7e0e",
   "metadata": {},
   "source": [
    "### What was the best month for sales and how much was earned that month?"
   ]
  },
  {
   "cell_type": "code",
   "execution_count": 46,
   "id": "1f9189ad",
   "metadata": {
    "ExecuteTime": {
     "end_time": "2023-07-28T13:50:18.869234Z",
     "start_time": "2023-07-28T13:50:18.788284Z"
    }
   },
   "outputs": [
    {
     "data": {
      "text/html": [
       "<div>\n",
       "<style scoped>\n",
       "    .dataframe tbody tr th:only-of-type {\n",
       "        vertical-align: middle;\n",
       "    }\n",
       "\n",
       "    .dataframe tbody tr th {\n",
       "        vertical-align: top;\n",
       "    }\n",
       "\n",
       "    .dataframe thead th {\n",
       "        text-align: right;\n",
       "    }\n",
       "</style>\n",
       "<table border=\"1\" class=\"dataframe\">\n",
       "  <thead>\n",
       "    <tr style=\"text-align: right;\">\n",
       "      <th></th>\n",
       "      <th>Quantity Ordered</th>\n",
       "      <th>Price Each</th>\n",
       "      <th>Month</th>\n",
       "      <th>Sales</th>\n",
       "    </tr>\n",
       "    <tr>\n",
       "      <th>Month Name</th>\n",
       "      <th></th>\n",
       "      <th></th>\n",
       "      <th></th>\n",
       "      <th></th>\n",
       "    </tr>\n",
       "  </thead>\n",
       "  <tbody>\n",
       "    <tr>\n",
       "      <th>April</th>\n",
       "      <td>20558</td>\n",
       "      <td>3367671.02</td>\n",
       "      <td>73116</td>\n",
       "      <td>3390670.24</td>\n",
       "    </tr>\n",
       "    <tr>\n",
       "      <th>August</th>\n",
       "      <td>13448</td>\n",
       "      <td>2230345.42</td>\n",
       "      <td>95688</td>\n",
       "      <td>2244467.88</td>\n",
       "    </tr>\n",
       "    <tr>\n",
       "      <th>December</th>\n",
       "      <td>28114</td>\n",
       "      <td>4588415.41</td>\n",
       "      <td>299808</td>\n",
       "      <td>4613443.34</td>\n",
       "    </tr>\n",
       "    <tr>\n",
       "      <th>February</th>\n",
       "      <td>13449</td>\n",
       "      <td>2188884.72</td>\n",
       "      <td>23950</td>\n",
       "      <td>2202022.42</td>\n",
       "    </tr>\n",
       "    <tr>\n",
       "      <th>January</th>\n",
       "      <td>10903</td>\n",
       "      <td>1811768.38</td>\n",
       "      <td>9709</td>\n",
       "      <td>1822256.73</td>\n",
       "    </tr>\n",
       "    <tr>\n",
       "      <th>July</th>\n",
       "      <td>16072</td>\n",
       "      <td>2632539.56</td>\n",
       "      <td>100051</td>\n",
       "      <td>2647775.76</td>\n",
       "    </tr>\n",
       "    <tr>\n",
       "      <th>June</th>\n",
       "      <td>15253</td>\n",
       "      <td>2562025.61</td>\n",
       "      <td>81324</td>\n",
       "      <td>2577802.26</td>\n",
       "    </tr>\n",
       "    <tr>\n",
       "      <th>March</th>\n",
       "      <td>17005</td>\n",
       "      <td>2791207.83</td>\n",
       "      <td>45459</td>\n",
       "      <td>2807100.38</td>\n",
       "    </tr>\n",
       "    <tr>\n",
       "      <th>May</th>\n",
       "      <td>18667</td>\n",
       "      <td>3135125.13</td>\n",
       "      <td>82830</td>\n",
       "      <td>3152606.75</td>\n",
       "    </tr>\n",
       "    <tr>\n",
       "      <th>November</th>\n",
       "      <td>19798</td>\n",
       "      <td>3180600.68</td>\n",
       "      <td>193303</td>\n",
       "      <td>3199603.20</td>\n",
       "    </tr>\n",
       "    <tr>\n",
       "      <th>October</th>\n",
       "      <td>22703</td>\n",
       "      <td>3715554.83</td>\n",
       "      <td>202820</td>\n",
       "      <td>3736726.88</td>\n",
       "    </tr>\n",
       "    <tr>\n",
       "      <th>September</th>\n",
       "      <td>13109</td>\n",
       "      <td>2084992.09</td>\n",
       "      <td>104589</td>\n",
       "      <td>2097560.13</td>\n",
       "    </tr>\n",
       "  </tbody>\n",
       "</table>\n",
       "</div>"
      ],
      "text/plain": [
       "            Quantity Ordered  Price Each   Month       Sales\n",
       "Month Name                                                  \n",
       "April                  20558  3367671.02   73116  3390670.24\n",
       "August                 13448  2230345.42   95688  2244467.88\n",
       "December               28114  4588415.41  299808  4613443.34\n",
       "February               13449  2188884.72   23950  2202022.42\n",
       "January                10903  1811768.38    9709  1822256.73\n",
       "July                   16072  2632539.56  100051  2647775.76\n",
       "June                   15253  2562025.61   81324  2577802.26\n",
       "March                  17005  2791207.83   45459  2807100.38\n",
       "May                    18667  3135125.13   82830  3152606.75\n",
       "November               19798  3180600.68  193303  3199603.20\n",
       "October                22703  3715554.83  202820  3736726.88\n",
       "September              13109  2084992.09  104589  2097560.13"
      ]
     },
     "execution_count": 46,
     "metadata": {},
     "output_type": "execute_result"
    }
   ],
   "source": [
    "#Highest month sales\n",
    "h_month = df.groupby('Month Name').sum()\n",
    "h_month"
   ]
  },
  {
   "cell_type": "code",
   "execution_count": 43,
   "id": "16d99722",
   "metadata": {
    "ExecuteTime": {
     "end_time": "2023-07-28T13:48:23.759649Z",
     "start_time": "2023-07-28T13:48:14.605371Z"
    }
   },
   "outputs": [
    {
     "data": {
      "image/png": "[encoded data removed]",
      "text/plain": [
       "<Figure size 640x480 with 1 Axes>"
      ]
     },
     "metadata": {},
     "output_type": "display_data"
    }
   ],
   "source": [
    "import matplotlib.pyplot as plt\n",
    "\n",
    "#months = range(1, 13)\n",
    "months = [month for month, df in frame.groupby('Month Name')]\n",
    "\n",
    "plt.bar(months, results['Sales'])\n",
    "plt.xticks(months, rotation='vertical', size=8)\n",
    "plt.ylabel('Sales in USD($)')\n",
    "plt.xlabel('Months Number')\n",
    "\n",
    "plt.show()"
   ]
  },
  {
   "cell_type": "code",
   "execution_count": 41,
   "id": "a0ba71e7",
   "metadata": {
    "ExecuteTime": {
     "end_time": "2023-07-28T13:47:32.312309Z",
     "start_time": "2023-07-28T13:47:30.486769Z"
    }
   },
   "outputs": [],
   "source": [
    "import calendar\n",
    "\n",
    "frame['Month Name'] = frame['Month'].apply(lambda x: calendar.month_name[x]) "
   ]
  },
  {
   "cell_type": "code",
   "execution_count": null,
   "id": "586151d8",
   "metadata": {
    "ExecuteTime": {
     "end_time": "2023-05-29T08:28:15.343582Z",
     "start_time": "2023-05-29T08:28:15.343582Z"
    }
   },
   "outputs": [],
   "source": [
    "frame.head(25000)"
   ]
  },
  {
   "cell_type": "markdown",
   "id": "f24ea442",
   "metadata": {
    "ExecuteTime": {
     "end_time": "2023-05-10T14:47:50.296840Z",
     "start_time": "2023-05-10T14:47:50.259864Z"
    }
   },
   "source": [
    "### Question 2: What city has the highest sales?"
   ]
  },
  {
   "cell_type": "markdown",
   "id": "ec13e952",
   "metadata": {
    "ExecuteTime": {
     "end_time": "2023-05-11T14:40:39.574280Z",
     "start_time": "2023-05-11T14:40:39.543301Z"
    }
   },
   "source": [
    "##### Create a function to extract city and state from the purchase address column"
   ]
  },
  {
   "cell_type": "code",
   "execution_count": null,
   "id": "6f631cc1",
   "metadata": {
    "ExecuteTime": {
     "end_time": "2023-05-29T08:28:15.349578Z",
     "start_time": "2023-05-29T08:28:15.349578Z"
    }
   },
   "outputs": [],
   "source": [
    "def get_city(address):\n",
    "    return address.split(',')[1]\n",
    "\n",
    "def get_state(address):\n",
    "    return address.split(',')[2].split(' ')[1]\n",
    "\n",
    "frame['City'] = frame['Purchase Address'].apply(lambda x: f'{get_city(x)} ({get_state(x)})')"
   ]
  },
  {
   "cell_type": "markdown",
   "id": "7632e7eb",
   "metadata": {},
   "source": []
  },
  {
   "cell_type": "code",
   "execution_count": null,
   "id": "96b2e731",
   "metadata": {
    "ExecuteTime": {
     "end_time": "2023-05-29T08:28:15.354575Z",
     "start_time": "2023-05-29T08:28:15.354575Z"
    }
   },
   "outputs": [],
   "source": [
    "# Let's use the .apply() method\n",
    "#frame[\"City\"] = frame[\"Purchase Address\"].apply(lambda x: x.split(',')[1])\n",
    "#frame[\"State\"] = frame[\"Purchase Address\"].apply(lambda x: x.split(',')[2][:3])\n",
    "\n"
   ]
  },
  {
   "cell_type": "code",
   "execution_count": null,
   "id": "be944860",
   "metadata": {
    "ExecuteTime": {
     "end_time": "2023-05-29T08:28:15.361571Z",
     "start_time": "2023-05-29T08:28:15.361571Z"
    }
   },
   "outputs": [],
   "source": [
    "frame.head()"
   ]
  },
  {
   "cell_type": "code",
   "execution_count": null,
   "id": "a34e9817",
   "metadata": {
    "ExecuteTime": {
     "end_time": "2023-05-11T14:29:08.041451Z",
     "start_time": "2023-05-11T14:29:07.970496Z"
    }
   },
   "outputs": [],
   "source": []
  },
  {
   "cell_type": "code",
   "execution_count": null,
   "id": "8316518d",
   "metadata": {
    "ExecuteTime": {
     "end_time": "2023-05-29T08:28:15.365568Z",
     "start_time": "2023-05-29T08:28:15.365568Z"
    }
   },
   "outputs": [],
   "source": [
    "results = frame.groupby('City').sum()\n",
    "results"
   ]
  },
  {
   "cell_type": "code",
   "execution_count": null,
   "id": "0e61de61",
   "metadata": {
    "ExecuteTime": {
     "end_time": "2023-05-29T08:28:15.370566Z",
     "start_time": "2023-05-29T08:28:15.370566Z"
    }
   },
   "outputs": [],
   "source": [
    "import matplotlib.pyplot as plt\n",
    "\n",
    "cities = [city for city, df in frame.groupby('City')] #frame['City'].unique()\n",
    "\n",
    "plt.bar(cities, results['Sales'])\n",
    "plt.xticks(cities, rotation='vertical', size=8)\n",
    "plt.ylabel('Sales in USD')\n",
    "plt.xlabel('City Names')\n",
    "plt.show()"
   ]
  },
  {
   "cell_type": "code",
   "execution_count": null,
   "id": "dd7bfe2a",
   "metadata": {
    "ExecuteTime": {
     "end_time": "2023-05-11T16:19:15.867924Z",
     "start_time": "2023-05-11T16:19:15.851933Z"
    }
   },
   "outputs": [],
   "source": []
  },
  {
   "cell_type": "markdown",
   "id": "92ae412d",
   "metadata": {},
   "source": [
    "### Question 3: What time should we display advertisement to maximise likelihood of customer's buying product?"
   ]
  },
  {
   "cell_type": "code",
   "execution_count": 48,
   "id": "2750907d",
   "metadata": {
    "ExecuteTime": {
     "end_time": "2023-07-28T16:48:00.085329Z",
     "start_time": "2023-07-28T16:47:25.512326Z"
    }
   },
   "outputs": [],
   "source": [
    "frame['Order Date'] = pd.to_datetime(frame['Order Date'])"
   ]
  },
  {
   "cell_type": "code",
   "execution_count": 49,
   "id": "cebb6bd4",
   "metadata": {
    "ExecuteTime": {
     "end_time": "2023-07-28T16:48:00.351749Z",
     "start_time": "2023-07-28T16:48:00.096319Z"
    }
   },
   "outputs": [],
   "source": [
    "frame['Hour'] = frame['Order Date'].dt.hour\n",
    "frame['Minute'] = frame['Order Date'].dt.minute"
   ]
  },
  {
   "cell_type": "code",
   "execution_count": 50,
   "id": "40d58624",
   "metadata": {
    "ExecuteTime": {
     "end_time": "2023-07-28T16:48:01.375236Z",
     "start_time": "2023-07-28T16:48:00.359740Z"
    }
   },
   "outputs": [
    {
     "data": {
      "image/png": "[encoded data removed]",
      "text/plain": [
       "<Figure size 640x480 with 1 Axes>"
      ]
     },
     "metadata": {},
     "output_type": "display_data"
    }
   ],
   "source": [
    "hours = [hour for hour, df in frame.groupby('Hour')]\n",
    "\n",
    "plt.plot(hours, frame.groupby('Hour').count())\n",
    "plt.xticks(hours)\n",
    "plt.grid()\n",
    "plt.xlabel('Hours')\n",
    "plt.ylabel('Orders Count')\n",
    "plt.show()"
   ]
  },
  {
   "cell_type": "markdown",
   "id": "3e65d773",
   "metadata": {},
   "source": [
    "### Question 4: What products are most often sold together?"
   ]
  },
  {
   "cell_type": "code",
   "execution_count": null,
   "id": "d83a4b2f",
   "metadata": {
    "ExecuteTime": {
     "end_time": "2023-05-29T08:28:15.411540Z",
     "start_time": "2023-05-29T08:28:15.411540Z"
    }
   },
   "outputs": [],
   "source": [
    "df = frame[frame['Order ID'].duplicated(keep=False)]"
   ]
  },
  {
   "cell_type": "code",
   "execution_count": null,
   "id": "fa2ef739",
   "metadata": {
    "ExecuteTime": {
     "end_time": "2023-05-29T08:28:15.414539Z",
     "start_time": "2023-05-29T08:28:15.414539Z"
    }
   },
   "outputs": [],
   "source": [
    "df['Grouped'] = df.groupby('Order ID')['Product'].transform(lambda x: ','.join(x))\n",
    "\n",
    "df = df[['Order ID', 'Grouped']].drop_duplicates()"
   ]
  },
  {
   "cell_type": "code",
   "execution_count": null,
   "id": "6aaedd24",
   "metadata": {
    "ExecuteTime": {
     "end_time": "2023-05-29T08:28:15.417537Z",
     "start_time": "2023-05-29T08:28:15.417537Z"
    }
   },
   "outputs": [],
   "source": [
    "df.head()"
   ]
  },
  {
   "cell_type": "code",
   "execution_count": null,
   "id": "538b1254",
   "metadata": {},
   "outputs": [],
   "source": []
  },
  {
   "cell_type": "code",
   "execution_count": null,
   "id": "92706e22",
   "metadata": {},
   "outputs": [],
   "source": []
  },
  {
   "cell_type": "code",
   "execution_count": null,
   "id": "29dc20cb",
   "metadata": {},
   "outputs": [],
   "source": []
  },
  {
   "cell_type": "code",
   "execution_count": null,
   "id": "2cbec42f",
   "metadata": {},
   "outputs": [],
   "source": []
  },
  {
   "cell_type": "code",
   "execution_count": null,
   "id": "6976937f",
   "metadata": {},
   "outputs": [],
   "source": []
  }
 ],
 "metadata": {
  "kernelspec": {
   "display_name": "Python 3 (ipykernel)",
   "language": "python",
   "name": "python3"
  },
  "language_info": {
   "codemirror_mode": {
    "name": "ipython",
    "version": 3
   },
   "file_extension": ".py",
   "mimetype": "text/x-python",
   "name": "python",
   "nbconvert_exporter": "python",
   "pygments_lexer": "ipython3",
   "version": "3.9.13"
  }
 },
 "nbformat": 4,
 "nbformat_minor": 5
}
